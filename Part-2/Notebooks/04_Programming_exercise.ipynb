{
 "cells": [
  {
   "cell_type": "markdown",
   "metadata": {},
   "source": [
    "# Spectrum, Tapering, 0-padding\n",
    "\n",
    "#### Programming exercise\n",
    "\n",
    "- Import necessary libraries\n",
    "- Define length time series  with approriate with two (or more) sinusoids of different frequencies and amplitude\n",
    "- Plot the function\n",
    "- Calculate and plot its amplitude spectrum using fft\n",
    "- Apply tapering of function\n",
    "- Apply zero padding (add many zeros to time series)\n",
    "- Compare amplitude spectrum before and after\n",
    "\n",
    "##### Tasks:\n",
    "\n",
    "- Change function to multiple sinusoids\n",
    "- Vary frequency and amplitude and check whether the spectrum contains the correct frequencies \n",
    "- Remove and/or play around with the length of the tapering and observe the effects, why is tapering so important?\n",
    "- Understand the concept of 0-padding ... what does it do to a spectrum?\n"
   ]
  },
  {
   "cell_type": "code",
   "execution_count": null,
   "metadata": {},
   "outputs": [],
   "source": [
    "# Import libraries\n",
    "import numpy as np\n",
    "import matplotlib\n",
    "import matplotlib.pyplot as plt\n",
    "from obspy.signal.invsim import cosine_taper \n"
   ]
  },
  {
   "cell_type": "code",
   "execution_count": null,
   "metadata": {},
   "outputs": [],
   "source": [
    "# Let us generate afunction in time (actually the first derivative of it)with two sinudoids\n",
    "nt = 300   # number of samples\n",
    "dt = .01      # the sampling interval in s\n",
    "f1   = 5.     # dominant frequency of the source (Hz)\n",
    "f2   = 10.     # dominant frequency of the source (Hz)\n",
    "#f2 ---\n",
    "a1   = 1.     # amplitudes for sinusoids\n",
    "a2   = 0.5\n",
    "#a3 ...\n",
    "\n",
    "# Initialize the function and time\n",
    "f  = np.zeros(nt + 1)\n",
    "t = np.linspace(0 * dt, nt * dt, nt)\n",
    "\n",
    "# Function (add up sinusoids of different amplitude ax and frequencies fx)\n",
    "f  = a1 * np.sin(2*np.pi*f1*t)\n",
    "\n",
    "# Let us plot it\n",
    "plt.plot(t,f)\n",
    "plt.xlabel('Time (s)')\n",
    "plt.ylabel('Amplitude')\n",
    "plt.title(' Sinusoidal function ')\n",
    "plt.show()"
   ]
  },
  {
   "cell_type": "code",
   "execution_count": null,
   "metadata": {},
   "outputs": [],
   "source": [
    "# Calculate and plot spectrum\n",
    "spec = np.fft.fft(f) # source time function in frequency domain\n",
    "freq = np.fft.fftfreq(spec.size, d = dt ) # time domain to frequency domain\n",
    "\n",
    "plt.plot(np.abs(freq), np.abs(spec)) # plot frequency and amplitude\n",
    "plt.title('Spectrum')\n",
    "plt.xlabel('Frequency (Hz)')\n",
    "plt.ylabel('Amplitude')\n",
    "plt.show()"
   ]
  },
  {
   "cell_type": "code",
   "execution_count": null,
   "metadata": {},
   "outputs": [],
   "source": [
    "# Taper signal\n",
    "\n",
    "# Percentage of tapering applied to signal, value between 0.0 and 1.0\n",
    "taper_percentage = 0.25  # original value: 0.1\n",
    "taper = cosine_taper(nt, taper_percentage)\n",
    "f_ = taper * f\n",
    "\n",
    "# Let us plot it\n",
    "plt.plot(t,f_)\n",
    "plt.xlabel('Time (s)')\n",
    "plt.ylabel('Amplitude')\n",
    "plt.title(' Gauss function ')\n",
    "plt.show()\n",
    "\n",
    "\n",
    "# Zero padding\n",
    "\n",
    "# Initialize the function\n",
    "f0p  = np.zeros(5*nt + 1)\n",
    "f0p[0:nt]=f_[0:nt]\n",
    "\n",
    "# Let us plot it\n",
    "plt.plot(f0p)\n",
    "plt.xlabel('Time (s)')\n",
    "plt.ylabel('Amplitude')\n",
    "plt.title(' Gauss function ')\n",
    "plt.show()\n",
    "\n",
    "# Calculate and plot spectrum\n",
    "spec = np.fft.fft(f0p) # source time function in frequency domain\n",
    "freq = np.fft.fftfreq(spec.size, d = dt ) # time domain to frequency domain\n",
    "\n",
    "plt.plot(np.abs(freq), np.abs(spec)) # plot frequency and amplitude\n",
    "plt.title('Spectrum')\n",
    "plt.xlabel('Frequency (Hz)')\n",
    "plt.ylabel('Amplitude')\n",
    "plt.show()"
   ]
  },
  {
   "cell_type": "code",
   "execution_count": null,
   "metadata": {},
   "outputs": [],
   "source": []
  }
 ],
 "metadata": {
  "kernelspec": {
   "display_name": "Python 3",
   "language": "python",
   "name": "python3"
  },
  "language_info": {
   "codemirror_mode": {
    "name": "ipython",
    "version": 3
   },
   "file_extension": ".py",
   "mimetype": "text/x-python",
   "name": "python",
   "nbconvert_exporter": "python",
   "pygments_lexer": "ipython3",
   "version": "3.8.5"
  }
 },
 "nbformat": 4,
 "nbformat_minor": 2
}
