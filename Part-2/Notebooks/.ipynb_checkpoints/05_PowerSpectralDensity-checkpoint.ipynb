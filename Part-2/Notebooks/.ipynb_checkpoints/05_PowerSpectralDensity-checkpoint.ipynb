{
 "cells": [
  {
   "cell_type": "markdown",
   "metadata": {},
   "source": [
    "# Power Spectral Densities\n",
    "\n",
    "Are very important in seismology! Below is a simple example how ObPsy allows calculating PPSDs for a seismic trace. PPSDs are also used to characterize the noise floor of ground motion instruments (e.g., seismometers, accelerometers, rotation sensors). \n",
    "\n",
    "The goal here is to understand the concept of Low and High Noise for our Earth, and the meaning of the values and axes in the graph!\n",
    "\n",
    "**Exercise:** Use ObsPy Commands to get an appropritate data time window (without earthquake) and plot the PPSD. Compare with the original data example.\n"
   ]
  },
  {
   "cell_type": "code",
   "execution_count": null,
   "metadata": {},
   "outputs": [],
   "source": [
    "from obspy import read\n",
    "from obspy.signal import PPSD\n",
    "from obspy.io.xseed import Parser\n",
    "\n",
    "\n",
    "st = read(\"https://examples.obspy.org/BW.KW1..EHZ.D.2011.037\")\n",
    "parser = Parser(\"https://examples.obspy.org/dataless.seed.BW_KW1\")\n",
    "ppsd = PPSD(st[0].stats, metadata=parser)\n",
    "ppsd.add(st)\n",
    "\n",
    "st = read(\"https://examples.obspy.org/BW.KW1..EHZ.D.2011.038\")\n",
    "ppsd.add(st)\n",
    "\n",
    "ppsd.plot()\n",
    "\n"
   ]
  },
  {
   "cell_type": "code",
   "execution_count": null,
   "metadata": {},
   "outputs": [],
   "source": [
    "# PPSD for other data"
   ]
  }
 ],
 "metadata": {
  "kernelspec": {
   "display_name": "Python 3",
   "language": "python",
   "name": "python3"
  },
  "language_info": {
   "codemirror_mode": {
    "name": "ipython",
    "version": 3
   },
   "file_extension": ".py",
   "mimetype": "text/x-python",
   "name": "python",
   "nbconvert_exporter": "python",
   "pygments_lexer": "ipython3",
   "version": "3.8.5"
  }
 },
 "nbformat": 4,
 "nbformat_minor": 4
}
