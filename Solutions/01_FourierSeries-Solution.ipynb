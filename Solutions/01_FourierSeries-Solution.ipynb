{
 "cells": [
  {
   "cell_type": "markdown",
   "metadata": {},
   "source": [
    "## Fourier Series - Continuous\n",
    "\n",
    "#### Example\n",
    "\n",
    "In the following example the function \n",
    "\n",
    "$f(x) = x $\n",
    "\n",
    "is approximated by a Fouier serie in the interval [0,1] as:\n",
    "\n",
    "$\n",
    "f(x) \\approx \\frac{2}{pi} \\sum_{n=1}^{\\infty} \\frac{(-1)^{n+1}}{n} \\sin(nx)\n",
    "$\n",
    "\n",
    "#### Exercise:\n",
    "\n",
    "Show the convergence of continous Fourier series to the exact solution numerically! Check the function approximation by increasing the approximation order.\n",
    "\n",
    "Write a loop around the approximation scheme and calculate the misfit between original function and approximation for order n = [1,100]. Calculate the misfit energy as sum over squared differences between original function and approximation. \n",
    "\n",
    "\n",
    "\n"
   ]
  },
  {
   "cell_type": "code",
   "execution_count": 12,
   "metadata": {},
   "outputs": [
    {
     "data": {
      "image/png": "[encoded data removed]",
      "text/plain": [
       "<Figure size 432x288 with 1 Axes>"
      ]
     },
     "metadata": {
      "needs_background": "light"
     },
     "output_type": "display_data"
    }
   ],
   "source": [
    "import matplotlib.pyplot as plt\n",
    "import numpy as np\n",
    "import math \n",
    "\n",
    "x = np.arange(0,1,.01)\n",
    "f = x\n",
    "\n",
    "maxn = 200\n",
    "err = np.zeros(maxn)\n",
    "\n",
    "#n = int(input('Give highest order: '))\n",
    "\n",
    "for n in range(1,maxn):\n",
    "    fa=0.0;\n",
    "    for i in range(1,n+1):\n",
    "        a = (-1)**(i+1) * 2/ (i * np.pi)\n",
    "        fa += a * np.sin(np.pi * x * i);\n",
    "     \n",
    "    err[n-1] = np.sum((f-fa)**2)\n",
    "\n",
    "        \n",
    "#plt.plot(np.linspace(1,maxn,maxn)+1,err)\n",
    "plt.plot(err)\n",
    "plt.xlabel(' Order ')\n",
    "plt.ylabel(' Misfit ')\n",
    "plt.show()"
   ]
  },
  {
   "cell_type": "raw",
   "metadata": {},
   "source": []
  }
 ],
 "metadata": {
  "kernelspec": {
   "display_name": "Python 3",
   "language": "python",
   "name": "python3"
  },
  "language_info": {
   "codemirror_mode": {
    "name": "ipython",
    "version": 3
   },
   "file_extension": ".py",
   "mimetype": "text/x-python",
   "name": "python",
   "nbconvert_exporter": "python",
   "pygments_lexer": "ipython3",
   "version": "3.8.5"
  }
 },
 "nbformat": 4,
 "nbformat_minor": 4
}
