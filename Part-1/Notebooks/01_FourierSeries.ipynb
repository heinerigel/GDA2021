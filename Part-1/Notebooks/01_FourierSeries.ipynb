{
 "cells": [
  {
   "cell_type": "markdown",
   "metadata": {},
   "source": [
    "## Fourier Series \n",
    "\n",
    "#### Example\n",
    "\n",
    "In the following example the function \n",
    "\n",
    "$f(x) = x $\n",
    "\n",
    "is approximated by a Fouier serie in the interval [-1,1] as:\n",
    "\n",
    "$\n",
    "f(x) \\approx \\frac{2}{pi} \\sum_{n=1}^{\\infty} \\frac{(-1)^{n+1}}{n} \\sin(nx)\n",
    "$\n",
    "\n",
    "\n",
    "#### Exercise:\n",
    "\n",
    "Show the convergence of continous Fourier series to the exact solution numerically! Check the function approximation by increasing the approximation order. \n",
    "\n",
    "Write a loop around the approximation scheme and calculate the misfit between original function and approximation for order n = [1,100]. Calculate the misfit energy as sum over squared differences between original function and approximation. \n"
   ]
  },
  {
   "cell_type": "code",
   "execution_count": 2,
   "metadata": {},
   "outputs": [
    {
     "name": "stdout",
     "output_type": "stream",
     "text": [
      "Give highest order: 128\n"
     ]
    },
    {
     "data": {
      "image/png": "[encoded data removed]",
      "text/plain": [
       "<Figure size 432x288 with 1 Axes>"
      ]
     },
     "metadata": {
      "needs_background": "light"
     },
     "output_type": "display_data"
    }
   ],
   "source": [
    "import matplotlib.pyplot as plt\n",
    "import numpy as np\n",
    "\n",
    "x = np.arange(-1,1,.01)\n",
    "f = x\n",
    "\n",
    "n = int(input('Give highest order: '))\n",
    "\n",
    "fa=0.0;\n",
    "for i in range(1,n+1):\n",
    "    a = (-1)**(i+1) * 2/ (i * np.pi)\n",
    "    fa += a * np.sin(np.pi * x * i);\n",
    "    \n",
    "plt.plot(x,f,'r-',x,fa,'b-')\n",
    "plt.xlabel(' x ')\n",
    "plt.ylabel(' f(x) ')\n",
    "plt.show()"
   ]
  },
  {
   "cell_type": "code",
   "execution_count": null,
   "metadata": {},
   "outputs": [],
   "source": []
  },
  {
   "cell_type": "code",
   "execution_count": null,
   "metadata": {},
   "outputs": [],
   "source": []
  }
 ],
 "metadata": {
  "kernelspec": {
   "display_name": "Python 3",
   "language": "python",
   "name": "python3"
  },
  "language_info": {
   "codemirror_mode": {
    "name": "ipython",
    "version": 3
   },
   "file_extension": ".py",
   "mimetype": "text/x-python",
   "name": "python",
   "nbconvert_exporter": "python",
   "pygments_lexer": "ipython3",
   "version": "3.8.5"
  }
 },
 "nbformat": 4,
 "nbformat_minor": 4
}
