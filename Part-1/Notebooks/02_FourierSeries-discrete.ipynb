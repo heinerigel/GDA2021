{
 "cells": [
  {
   "cell_type": "markdown",
   "metadata": {},
   "source": [
    "## Fourier Series (discrete)\n",
    "\n",
    "#### Example\n",
    "\n",
    "In the following example the function \n",
    "\n",
    "$f(x) = x $\n",
    "\n",
    "is approximated by a Fouier serie in the interval [-1,1] as:\n",
    "\n",
    "$\n",
    "f(x) \\approx \\frac{2}{pi} \\sum_{n=1}^{\\infty} \\frac{(-1)^{n+1}}{n} \\sin(nx)\n",
    "$\n",
    "\n",
    "\n",
    "#### Exercise:\n",
    "\n",
    "Show the convergence of continous Fourier series to the exact solution numerically! Check the function approximation by increasing the approximation order. \n",
    "\n",
    "Write a loop around the approximation scheme and calculate the misfit between original function and approximation for order n = [1,100]. Calculate the misfit energy as sum over squared differences between original function and approximation. \n"
   ]
  },
  {
   "cell_type": "code",
   "execution_count": 105,
   "metadata": {},
   "outputs": [],
   "source": [
    "import matplotlib.pyplot as plt\n",
    "import numpy as np"
   ]
  },
  {
   "cell_type": "code",
   "execution_count": 106,
   "metadata": {
    "code_folding": []
   },
   "outputs": [
    {
     "data": {
      "text/plain": [
       "[<matplotlib.lines.Line2D at 0x1938647edc0>]"
      ]
     },
     "execution_count": 106,
     "metadata": {},
     "output_type": "execute_result"
    },
    {
     "data": {
      "image/png": "[encoded data removed]",
      "text/plain": [
       "<Figure size 432x288 with 1 Axes>"
      ]
     },
     "metadata": {
      "needs_background": "light"
     },
     "output_type": "display_data"
    }
   ],
   "source": [
    "# Program to illustrate discrete Fourier series\n",
    "# H. Igel, 7/23\n",
    "\n",
    "fs=11\n",
    "\n",
    "# Functions will be considered in the interval [0 2pi]\n",
    "\n",
    "# Global parameters\n",
    "N = 16     # number of intervals and number of base functions (even)\n",
    "n=int(N/2)\n",
    "nx = 1000  # grid points for approximate function\n",
    "\n",
    "\n",
    "# Initialize regular space grid\n",
    "xi = np.linspace(0,2*np.pi,N+1)\n",
    "\n",
    "# Initialize function to approximate\n",
    "fi = xi*xi    # f(x) = x^2\n",
    "\n",
    "# Calculate Fourier coefficients\n",
    "\n",
    "# a_k (cosines)\n",
    "a=np.zeros(N)\n",
    "a0=2./N*np.sum(fi)\n",
    "for k in range(1,n+1):\n",
    "    for i in range(1,N+1):\n",
    "        a[k-1]=a[k-1]+2/N*fi[i]*np.cos(k*xi[i])\n",
    "        \n",
    "        \n",
    "# b_k (sines)\n",
    "b=np.zeros(N);\n",
    "for k in range(1,n+1):\n",
    "    for i in range(1,N+1):\n",
    "        b[k-1]=b[k-1]+2/N*fi[i]*np.sin(k*xi[i])\n",
    "\n",
    "        \n",
    "# Assemble Fourier series\n",
    "\n",
    "# Initialize space (fine meshing)\n",
    "#x=0:.001:2*pi;\n",
    "#x  = np.linspace(0,2*np.pi,6284)\n",
    "x = np.arange(0,2*np.pi,0.001)\n",
    "\n",
    "# Initialize approximate function\n",
    "g=x * 0\n",
    "\n",
    "for k in range(0,n-1):\n",
    "    g = g + a[k]*np.cos((k+1)*x) + b[k]*np.sin((k+1)*x)\n",
    "\n",
    "g = g + a0/2 + a[n-1]/2*np.cos((n)*x);\n",
    "\n",
    "plt.plot(x,g,linestyle='solid')\n",
    "plt.plot(xi,fi,marker='+')\n"
   ]
  },
  {
   "cell_type": "markdown",
   "metadata": {},
   "source": [
    "\n",
    "#### Exercise:\n",
    "\n",
    "Copy/paste the code and modify the discrete function to interpolate fi and observe the convergens and exact interpolation, comment!\n",
    "\n",
    "1. a step function in the middle of the domain\n",
    "\n",
    "2. a Gaussian function centered in  the middle"
   ]
  },
  {
   "cell_type": "code",
   "execution_count": null,
   "metadata": {},
   "outputs": [],
   "source": []
  }
 ],
 "metadata": {
  "kernelspec": {
   "display_name": "Python 3",
   "language": "python",
   "name": "python3"
  },
  "language_info": {
   "codemirror_mode": {
    "name": "ipython",
    "version": 3
   },
   "file_extension": ".py",
   "mimetype": "text/x-python",
   "name": "python",
   "nbconvert_exporter": "python",
   "pygments_lexer": "ipython3",
   "version": "3.8.5"
  }
 },
 "nbformat": 4,
 "nbformat_minor": 4
}
